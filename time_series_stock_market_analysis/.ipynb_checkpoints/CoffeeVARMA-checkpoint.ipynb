{
 "cells": [
  {
   "cell_type": "code",
   "execution_count": 2,
   "id": "48173d86",
   "metadata": {},
   "outputs": [],
   "source": [
    "import pandas as pd"
   ]
  },
  {
   "cell_type": "code",
   "execution_count": 3,
   "id": "fc3f9a19",
   "metadata": {},
   "outputs": [],
   "source": [
    "# from nsepy import get_history as gh\n",
    "import datetime as dt"
   ]
  },
  {
   "cell_type": "code",
   "execution_count": 4,
   "id": "ffa2740a",
   "metadata": {},
   "outputs": [],
   "source": [
    "# start = dt.datetime(2013,6,1)\n",
    "# end = dt.datetime(2022,2,11)\n",
    "# stk_data = gh(symbol='TATACOFFEE',start=start,end=end)\n"
   ]
  },
  {
   "cell_type": "code",
   "execution_count": 5,
   "id": "90da92de-0be3-45bc-a42f-d61049710641",
   "metadata": {},
   "outputs": [],
   "source": [
    "from NSEDownload import stocks\n",
    "# from datetime import datetime\n",
    "stk_data = stocks.get_data(stock_symbol=\"TATACOFFEE\", start_date='1-6-2013', end_date='1-11-2022')"
   ]
  },
  {
   "cell_type": "code",
   "execution_count": 6,
   "id": "f5e21aa3",
   "metadata": {},
   "outputs": [],
   "source": [
    "# stk_data = pd.read_csv(\"stock_data.csv\")\n",
    "stk_data=stk_data[[\"Open Price\",\"High Price\",\"Low Price\",\"Close Price\"]]"
   ]
  },
  {
   "cell_type": "code",
   "execution_count": 7,
   "id": "c7225240",
   "metadata": {},
   "outputs": [],
   "source": [
    "#column=\"Close\""
   ]
  },
  {
   "cell_type": "code",
   "execution_count": 8,
   "id": "7ad5ebcf",
   "metadata": {},
   "outputs": [
    {
     "name": "stdout",
     "output_type": "stream",
     "text": [
      "Len: (2393, 4)\n"
     ]
    }
   ],
   "source": [
    "from sklearn.preprocessing import MinMaxScaler\n",
    "Ms = MinMaxScaler()\n",
    "data1= Ms.fit_transform(stk_data)\n",
    "print(\"Len:\",data1.shape)"
   ]
  },
  {
   "cell_type": "code",
   "execution_count": 9,
   "id": "b2b41235",
   "metadata": {},
   "outputs": [],
   "source": [
    "data1=pd.DataFrame(data1,columns=[\"Open Price\",\"High Price\",\"Low Price\",\"Close Price\"])"
   ]
  },
  {
   "cell_type": "code",
   "execution_count": 10,
   "id": "79c8b1d5",
   "metadata": {},
   "outputs": [
    {
     "name": "stdout",
     "output_type": "stream",
     "text": [
      "1914\n",
      "X_train length: (1914, 4)\n",
      "X_test length: (479, 4)\n",
      "y_train length: (1914, 4)\n",
      "y_test length: (479, 4)\n"
     ]
    }
   ],
   "source": [
    "training_size = round(len(data1 ) * 0.80)\n",
    "print(training_size)\n",
    "X_train=data1[:training_size]\n",
    "X_test=data1[training_size:]\n",
    "print(\"X_train length:\",X_train.shape)\n",
    "print(\"X_test length:\",X_test.shape)\n",
    "y_train=data1[:training_size]\n",
    "y_test=data1[training_size:]\n",
    "print(\"y_train length:\",y_train.shape)\n",
    "print(\"y_test length:\",y_test.shape)"
   ]
  },
  {
   "cell_type": "code",
   "execution_count": 11,
   "id": "466d94f9",
   "metadata": {},
   "outputs": [],
   "source": [
    "import warnings\n",
    "warnings.filterwarnings(\"ignore\")"
   ]
  },
  {
   "cell_type": "code",
   "execution_count": 12,
   "id": "decaa5ab-a9f6-43e0-8cbe-3a0d761ac193",
   "metadata": {},
   "outputs": [],
   "source": [
    "listt=[\"Close Price\",\"High Price\",\"Open Price\",\"Low Price\"]"
   ]
  },
  {
   "cell_type": "code",
   "execution_count": 13,
   "id": "5be046f1-c15d-4660-8dd0-069e0358cf85",
   "metadata": {},
   "outputs": [
    {
     "data": {
      "text/plain": [
       "['Close Price', 'High Price', 'Open Price', 'Low Price']"
      ]
     },
     "execution_count": 13,
     "metadata": {},
     "output_type": "execute_result"
    }
   ],
   "source": [
    "listt"
   ]
  },
  {
   "cell_type": "code",
   "execution_count": 14,
   "id": "1467dc5c-8409-49ac-a2c6-656e0696e814",
   "metadata": {},
   "outputs": [
    {
     "data": {
      "text/html": [
       "<div>\n",
       "<style scoped>\n",
       "    .dataframe tbody tr th:only-of-type {\n",
       "        vertical-align: middle;\n",
       "    }\n",
       "\n",
       "    .dataframe tbody tr th {\n",
       "        vertical-align: top;\n",
       "    }\n",
       "\n",
       "    .dataframe thead th {\n",
       "        text-align: right;\n",
       "    }\n",
       "</style>\n",
       "<table border=\"1\" class=\"dataframe\">\n",
       "  <thead>\n",
       "    <tr style=\"text-align: right;\">\n",
       "      <th></th>\n",
       "      <th>Open Price</th>\n",
       "      <th>High Price</th>\n",
       "      <th>Low Price</th>\n",
       "      <th>Close Price</th>\n",
       "    </tr>\n",
       "  </thead>\n",
       "  <tbody>\n",
       "    <tr>\n",
       "      <th>0</th>\n",
       "      <td>1.000000</td>\n",
       "      <td>1.000000</td>\n",
       "      <td>1.000000</td>\n",
       "      <td>1.000000</td>\n",
       "    </tr>\n",
       "    <tr>\n",
       "      <th>1</th>\n",
       "      <td>0.996183</td>\n",
       "      <td>0.992387</td>\n",
       "      <td>0.984549</td>\n",
       "      <td>0.989929</td>\n",
       "    </tr>\n",
       "    <tr>\n",
       "      <th>2</th>\n",
       "      <td>0.991495</td>\n",
       "      <td>0.989649</td>\n",
       "      <td>0.992444</td>\n",
       "      <td>0.995573</td>\n",
       "    </tr>\n",
       "    <tr>\n",
       "      <th>3</th>\n",
       "      <td>0.985770</td>\n",
       "      <td>0.993055</td>\n",
       "      <td>0.994138</td>\n",
       "      <td>0.994153</td>\n",
       "    </tr>\n",
       "    <tr>\n",
       "      <th>4</th>\n",
       "      <td>0.981450</td>\n",
       "      <td>0.984374</td>\n",
       "      <td>0.988039</td>\n",
       "      <td>0.989186</td>\n",
       "    </tr>\n",
       "    <tr>\n",
       "      <th>...</th>\n",
       "      <td>...</td>\n",
       "      <td>...</td>\n",
       "      <td>...</td>\n",
       "      <td>...</td>\n",
       "    </tr>\n",
       "    <tr>\n",
       "      <th>2388</th>\n",
       "      <td>0.112168</td>\n",
       "      <td>0.111953</td>\n",
       "      <td>0.113645</td>\n",
       "      <td>0.112876</td>\n",
       "    </tr>\n",
       "    <tr>\n",
       "      <th>2389</th>\n",
       "      <td>0.112168</td>\n",
       "      <td>0.112688</td>\n",
       "      <td>0.113679</td>\n",
       "      <td>0.113282</td>\n",
       "    </tr>\n",
       "    <tr>\n",
       "      <th>2390</th>\n",
       "      <td>0.112871</td>\n",
       "      <td>0.111586</td>\n",
       "      <td>0.113035</td>\n",
       "      <td>0.111997</td>\n",
       "    </tr>\n",
       "    <tr>\n",
       "      <th>2391</th>\n",
       "      <td>0.111565</td>\n",
       "      <td>0.111419</td>\n",
       "      <td>0.113170</td>\n",
       "      <td>0.113282</td>\n",
       "    </tr>\n",
       "    <tr>\n",
       "      <th>2392</th>\n",
       "      <td>0.112235</td>\n",
       "      <td>0.112855</td>\n",
       "      <td>0.114356</td>\n",
       "      <td>0.114464</td>\n",
       "    </tr>\n",
       "  </tbody>\n",
       "</table>\n",
       "<p>2393 rows × 4 columns</p>\n",
       "</div>"
      ],
      "text/plain": [
       "      Open Price  High Price  Low Price  Close Price\n",
       "0       1.000000    1.000000   1.000000     1.000000\n",
       "1       0.996183    0.992387   0.984549     0.989929\n",
       "2       0.991495    0.989649   0.992444     0.995573\n",
       "3       0.985770    0.993055   0.994138     0.994153\n",
       "4       0.981450    0.984374   0.988039     0.989186\n",
       "...          ...         ...        ...          ...\n",
       "2388    0.112168    0.111953   0.113645     0.112876\n",
       "2389    0.112168    0.112688   0.113679     0.113282\n",
       "2390    0.112871    0.111586   0.113035     0.111997\n",
       "2391    0.111565    0.111419   0.113170     0.113282\n",
       "2392    0.112235    0.112855   0.114356     0.114464\n",
       "\n",
       "[2393 rows x 4 columns]"
      ]
     },
     "execution_count": 14,
     "metadata": {},
     "output_type": "execute_result"
    }
   ],
   "source": [
    "data1"
   ]
  },
  {
   "cell_type": "code",
   "execution_count": 21,
   "id": "3b6caee0",
   "metadata": {},
   "outputs": [],
   "source": [
    "def combination(dataset,listt):\n",
    "    print(listt)\n",
    "    performance={\"Model\":[],\"RMSE\":[],\"MaPe\":[],\"Order\":[],\"Test\":[]}\n",
    "    datasetTwo=dataset[listt]\n",
    "    test_obs = 28\n",
    "    train =datasetTwo[:-test_obs]\n",
    "    test = datasetTwo[-test_obs:]\n",
    "    best_aic = float('inf')\n",
    "    from statsmodels.tsa.api import VARMAX\n",
    "    \n",
    "    best_order = None\n",
    "    best_model = None\n",
    "    \n",
    "    for p in range(1, 3):  # Autoregressive part\n",
    "        for q in range(1, 3):  # Moving average part\n",
    "            try:\n",
    "                # Initialize and fit the VARMA model\n",
    "                model = VARMAX(train, order=(p, q))\n",
    "                results = model.fit(disp=False)\n",
    "                \n",
    "                # Print the order and AIC for each model\n",
    "                print(f'Order = (p={p}, q={q})')\n",
    "                print('AIC: ', results.aic)\n",
    "                print('BIC: ', results.bic)\n",
    "                \n",
    "                # Track the best model based on AIC\n",
    "                if results.aic < best_aic:\n",
    "                    best_aic = results.aic\n",
    "                    best_order = (p, q)\n",
    "                    best_model = results\n",
    "            except Exception as e:\n",
    "                print(f\"Could not fit VARMA(p={p}, q={q}): {e}\")\n",
    "                continue\n",
    "    \n",
    "    # Use the best model to make predictions\n",
    "    if best_model is not None:\n",
    "        lagged_Values = train.values[-best_order[0]:]  # Use the AR part of the best order\n",
    "        pforecast = results.get_forecast(steps=test_obs)\n",
    "        forecasted_values = pforecast.predicted_mean\n",
    "        preds = pd.DataFrame(forecasted_values, columns=listt)\n",
    "    \n",
    "        preds.to_csv(\"varma_forecasted_{}.csv\".format(test_obs), index=False)\n",
    "        from sklearn.metrics import mean_squared_error\n",
    "        rmse= round(mean_squared_error(test,preds,squared=False))\n",
    "        from sklearn.metrics import mean_absolute_percentage_error\n",
    "        mape=mean_absolute_percentage_error(test,preds)\n",
    "        performance[\"Model\"].append(listt)\n",
    "        performance[\"RMSE\"].append(rmse)\n",
    "        performance[\"MaPe\"].append(mape)\n",
    "        performance[\"Order\"].append(best_order)\n",
    "        performance[\"Test\"].append(test_obs)\n",
    "        perf=pd.DataFrame(performance)\n",
    "    return perf,results,preds"
   ]
  },
  {
   "cell_type": "code",
   "execution_count": 22,
   "id": "1ca74337",
   "metadata": {},
   "outputs": [],
   "source": [
    "\n",
    "#listt=[\"AQI_calculated\",\"PM10\",\"PM2.5\",\"NOx\",\"NO2\",\"NO\",\"NH3\",\"SO2\",\"CO\",'year']\n"
   ]
  },
  {
   "cell_type": "code",
   "execution_count": 23,
   "id": "3294031a",
   "metadata": {},
   "outputs": [
    {
     "name": "stdout",
     "output_type": "stream",
     "text": [
      "['Close Price', 'High Price', 'Open Price', 'Low Price']\n"
     ]
    },
    {
     "name": "stderr",
     "output_type": "stream",
     "text": [
      "/Users/subhaarunpandian/anaconda3/envs/dl_env/lib/python3.10/site-packages/statsmodels/tsa/statespace/varmax.py:160: EstimationWarning: Estimation of VARMA(p,q) models is not generically robust, due especially to identification issues.\n",
      "  warn('Estimation of VARMA(p,q) models is not generically robust,'\n"
     ]
    },
    {
     "name": "stdout",
     "output_type": "stream",
     "text": [
      "Order = (p=1, q=1)\n",
      "AIC:  -73210.34479644973\n",
      "BIC:  -72944.99226460714\n"
     ]
    },
    {
     "name": "stderr",
     "output_type": "stream",
     "text": [
      "/Users/subhaarunpandian/anaconda3/envs/dl_env/lib/python3.10/site-packages/statsmodels/tsa/statespace/varmax.py:160: EstimationWarning: Estimation of VARMA(p,q) models is not generically robust, due especially to identification issues.\n",
      "  warn('Estimation of VARMA(p,q) models is not generically robust,'\n"
     ]
    },
    {
     "name": "stdout",
     "output_type": "stream",
     "text": [
      "Order = (p=1, q=2)\n",
      "AIC:  -73227.03033392748\n",
      "BIC:  -72869.38126927007\n"
     ]
    },
    {
     "name": "stderr",
     "output_type": "stream",
     "text": [
      "/Users/subhaarunpandian/anaconda3/envs/dl_env/lib/python3.10/site-packages/statsmodels/tsa/statespace/varmax.py:160: EstimationWarning: Estimation of VARMA(p,q) models is not generically robust, due especially to identification issues.\n",
      "  warn('Estimation of VARMA(p,q) models is not generically robust,'\n",
      "/Users/subhaarunpandian/anaconda3/envs/dl_env/lib/python3.10/site-packages/statsmodels/base/model.py:607: ConvergenceWarning: Maximum Likelihood optimization failed to converge. Check mle_retvals\n",
      "  warnings.warn(\"Maximum Likelihood optimization failed to \"\n"
     ]
    },
    {
     "name": "stdout",
     "output_type": "stream",
     "text": [
      "Order = (p=2, q=1)\n",
      "AIC:  -73231.51155311192\n",
      "BIC:  -72873.86248845451\n"
     ]
    },
    {
     "name": "stderr",
     "output_type": "stream",
     "text": [
      "/Users/subhaarunpandian/anaconda3/envs/dl_env/lib/python3.10/site-packages/statsmodels/tsa/statespace/varmax.py:160: EstimationWarning: Estimation of VARMA(p,q) models is not generically robust, due especially to identification issues.\n",
      "  warn('Estimation of VARMA(p,q) models is not generically robust,'\n",
      "/Users/subhaarunpandian/anaconda3/envs/dl_env/lib/python3.10/site-packages/statsmodels/base/model.py:607: ConvergenceWarning: Maximum Likelihood optimization failed to converge. Check mle_retvals\n",
      "  warnings.warn(\"Maximum Likelihood optimization failed to \"\n"
     ]
    },
    {
     "name": "stdout",
     "output_type": "stream",
     "text": [
      "Order = (p=2, q=2)\n",
      "AIC:  -73201.2133048652\n",
      "BIC:  -72751.26770739297\n"
     ]
    }
   ],
   "source": [
    "perf,result,pred=combination(data1,listt) # here p is aiuto regressive , q is moving average"
   ]
  },
  {
   "cell_type": "code",
   "execution_count": 24,
   "id": "43375522",
   "metadata": {},
   "outputs": [
    {
     "data": {
      "text/html": [
       "<div>\n",
       "<style scoped>\n",
       "    .dataframe tbody tr th:only-of-type {\n",
       "        vertical-align: middle;\n",
       "    }\n",
       "\n",
       "    .dataframe tbody tr th {\n",
       "        vertical-align: top;\n",
       "    }\n",
       "\n",
       "    .dataframe thead th {\n",
       "        text-align: right;\n",
       "    }\n",
       "</style>\n",
       "<table border=\"1\" class=\"dataframe\">\n",
       "  <thead>\n",
       "    <tr style=\"text-align: right;\">\n",
       "      <th></th>\n",
       "      <th>Open Price</th>\n",
       "      <th>High Price</th>\n",
       "      <th>Low Price</th>\n",
       "      <th>Close Price</th>\n",
       "    </tr>\n",
       "  </thead>\n",
       "  <tbody>\n",
       "    <tr>\n",
       "      <th>0</th>\n",
       "      <td>1.000000</td>\n",
       "      <td>1.000000</td>\n",
       "      <td>1.000000</td>\n",
       "      <td>1.000000</td>\n",
       "    </tr>\n",
       "    <tr>\n",
       "      <th>1</th>\n",
       "      <td>0.996183</td>\n",
       "      <td>0.992387</td>\n",
       "      <td>0.984549</td>\n",
       "      <td>0.989929</td>\n",
       "    </tr>\n",
       "    <tr>\n",
       "      <th>2</th>\n",
       "      <td>0.991495</td>\n",
       "      <td>0.989649</td>\n",
       "      <td>0.992444</td>\n",
       "      <td>0.995573</td>\n",
       "    </tr>\n",
       "    <tr>\n",
       "      <th>3</th>\n",
       "      <td>0.985770</td>\n",
       "      <td>0.993055</td>\n",
       "      <td>0.994138</td>\n",
       "      <td>0.994153</td>\n",
       "    </tr>\n",
       "    <tr>\n",
       "      <th>4</th>\n",
       "      <td>0.981450</td>\n",
       "      <td>0.984374</td>\n",
       "      <td>0.988039</td>\n",
       "      <td>0.989186</td>\n",
       "    </tr>\n",
       "    <tr>\n",
       "      <th>...</th>\n",
       "      <td>...</td>\n",
       "      <td>...</td>\n",
       "      <td>...</td>\n",
       "      <td>...</td>\n",
       "    </tr>\n",
       "    <tr>\n",
       "      <th>2388</th>\n",
       "      <td>0.112168</td>\n",
       "      <td>0.111953</td>\n",
       "      <td>0.113645</td>\n",
       "      <td>0.112876</td>\n",
       "    </tr>\n",
       "    <tr>\n",
       "      <th>2389</th>\n",
       "      <td>0.112168</td>\n",
       "      <td>0.112688</td>\n",
       "      <td>0.113679</td>\n",
       "      <td>0.113282</td>\n",
       "    </tr>\n",
       "    <tr>\n",
       "      <th>2390</th>\n",
       "      <td>0.112871</td>\n",
       "      <td>0.111586</td>\n",
       "      <td>0.113035</td>\n",
       "      <td>0.111997</td>\n",
       "    </tr>\n",
       "    <tr>\n",
       "      <th>2391</th>\n",
       "      <td>0.111565</td>\n",
       "      <td>0.111419</td>\n",
       "      <td>0.113170</td>\n",
       "      <td>0.113282</td>\n",
       "    </tr>\n",
       "    <tr>\n",
       "      <th>2392</th>\n",
       "      <td>0.112235</td>\n",
       "      <td>0.112855</td>\n",
       "      <td>0.114356</td>\n",
       "      <td>0.114464</td>\n",
       "    </tr>\n",
       "  </tbody>\n",
       "</table>\n",
       "<p>2393 rows × 4 columns</p>\n",
       "</div>"
      ],
      "text/plain": [
       "      Open Price  High Price  Low Price  Close Price\n",
       "0       1.000000    1.000000   1.000000     1.000000\n",
       "1       0.996183    0.992387   0.984549     0.989929\n",
       "2       0.991495    0.989649   0.992444     0.995573\n",
       "3       0.985770    0.993055   0.994138     0.994153\n",
       "4       0.981450    0.984374   0.988039     0.989186\n",
       "...          ...         ...        ...          ...\n",
       "2388    0.112168    0.111953   0.113645     0.112876\n",
       "2389    0.112168    0.112688   0.113679     0.113282\n",
       "2390    0.112871    0.111586   0.113035     0.111997\n",
       "2391    0.111565    0.111419   0.113170     0.113282\n",
       "2392    0.112235    0.112855   0.114356     0.114464\n",
       "\n",
       "[2393 rows x 4 columns]"
      ]
     },
     "execution_count": 24,
     "metadata": {},
     "output_type": "execute_result"
    }
   ],
   "source": [
    "data1"
   ]
  },
  {
   "cell_type": "code",
   "execution_count": 27,
   "id": "1ec452de",
   "metadata": {},
   "outputs": [
    {
     "data": {
      "text/html": [
       "<div>\n",
       "<style scoped>\n",
       "    .dataframe tbody tr th:only-of-type {\n",
       "        vertical-align: middle;\n",
       "    }\n",
       "\n",
       "    .dataframe tbody tr th {\n",
       "        vertical-align: top;\n",
       "    }\n",
       "\n",
       "    .dataframe thead th {\n",
       "        text-align: right;\n",
       "    }\n",
       "</style>\n",
       "<table border=\"1\" class=\"dataframe\">\n",
       "  <thead>\n",
       "    <tr style=\"text-align: right;\">\n",
       "      <th></th>\n",
       "      <th>Model</th>\n",
       "      <th>RMSE</th>\n",
       "      <th>MaPe</th>\n",
       "      <th>Order</th>\n",
       "      <th>Test</th>\n",
       "    </tr>\n",
       "  </thead>\n",
       "  <tbody>\n",
       "    <tr>\n",
       "      <th>0</th>\n",
       "      <td>[Close Price, High Price, Open Price, Low Price]</td>\n",
       "      <td>0</td>\n",
       "      <td>0.072817</td>\n",
       "      <td>(2, 1)</td>\n",
       "      <td>28</td>\n",
       "    </tr>\n",
       "  </tbody>\n",
       "</table>\n",
       "</div>"
      ],
      "text/plain": [
       "                                              Model  RMSE      MaPe   Order  \\\n",
       "0  [Close Price, High Price, Open Price, Low Price]     0  0.072817  (2, 1)   \n",
       "\n",
       "   Test  \n",
       "0    28  "
      ]
     },
     "execution_count": 27,
     "metadata": {},
     "output_type": "execute_result"
    }
   ],
   "source": [
    "perf"
   ]
  },
  {
   "cell_type": "code",
   "execution_count": null,
   "id": "0304326b-acd4-46b6-abfd-e814a013cd75",
   "metadata": {},
   "outputs": [],
   "source": []
  },
  {
   "cell_type": "code",
   "execution_count": null,
   "id": "92b3853a-c9ec-4d33-ad10-f6adb8e2f398",
   "metadata": {},
   "outputs": [],
   "source": []
  }
 ],
 "metadata": {
  "kernelspec": {
   "display_name": "Python 3 (ipykernel)",
   "language": "python",
   "name": "python3"
  },
  "language_info": {
   "codemirror_mode": {
    "name": "ipython",
    "version": 3
   },
   "file_extension": ".py",
   "mimetype": "text/x-python",
   "name": "python",
   "nbconvert_exporter": "python",
   "pygments_lexer": "ipython3",
   "version": "3.10.0"
  }
 },
 "nbformat": 4,
 "nbformat_minor": 5
}
